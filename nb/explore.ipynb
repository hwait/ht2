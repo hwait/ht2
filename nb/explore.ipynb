{
 "cells": [
  {
   "cell_type": "markdown",
   "metadata": {},
   "source": [
    "# Описание данных\n",
    "\n",
    "- `instanceId_userId` — идентификатор пользователя (анонимизированный)\n",
    "- `instanceId_objectType` — тип объекта\n",
    "- `instanceId_objectId` — идентификатор объекта (анонимизированный)\n",
    "- `feedback` — массив с типами реакций пользователя (наличие в массиве токена Liked говорит о том, что объект получил «класс» от пользователя)\n",
    "- `audit_clientType` — тип платформы, с которой зашёл пользователь\n",
    "- `audit_timestamp` — время, когда строилась лента\n",
    "- `metadata_ownerId` — автор показанного объекта (анонимизированный)\n",
    "- `metadata_createdAt` — дата создания показанного объекта\n",
    "- `audit_*` — расширенная информация о контексте построения ленты;\n",
    "- `metadata_*` — расширенная информация о самом объекте;\n",
    "- `userOwnerCounters_*` — информация о предыдущих взаимодействиях пользователя и автора контента;\n",
    "- `ownerUserCounters_*` — информация о предыдущих взаимодействиях автора контента и пользователя;\n",
    "- `membership_*` — информация о членстве пользователя в группе, где опубликован контент;\n",
    "- `user_*` — подробная информация о пользователе;\n",
    "- `auditweights_*` — большое количество runtime-признаков, извлечённых текущей системой."
   ]
  },
  {
   "cell_type": "code",
   "execution_count": null,
   "metadata": {},
   "outputs": [],
   "source": [
    "import $ivy.`org.apache.spark::spark-sql:3.1.1`\n",
    "import $ivy.`org.apache.spark::spark-mllib:3.1.1`\n",
    "import $ivy.`sh.almond::almond-spark:0.11.2`\n",
    "import $ivy.`org.plotly-scala::plotly-almond:0.5.2`"
   ]
  },
  {
   "cell_type": "code",
   "execution_count": null,
   "metadata": {},
   "outputs": [],
   "source": [
    "import scala.math.Ordered._\n",
    "\n",
    "import org.apache.spark.sql.SparkSession\n",
    "import org.apache.spark.sql.types._\n",
    "import org.apache.spark.sql.functions._\n",
    "\n",
    "import org.apache.spark.ml.linalg.Matrix\n",
    "import org.apache.spark.ml.stat.Correlation\n",
    "import org.apache.spark.ml.feature.VectorAssembler\n",
    "import org.apache.spark.sql.Row\n",
    "\n",
    "import plotly._, plotly.element._ , plotly.layout._ , plotly.Almond._ \n",
    "\n",
    "import org.apache.log4j.{Logger, Level}\n",
    "Logger.getRootLogger.setLevel(Level.ERROR)\n",
    "Logger.getRootLogger.setLevel(Level.FATAL)\n",
    "Logger.getLogger(\"org\").setLevel(Level.WARN)"
   ]
  },
  {
   "cell_type": "code",
   "execution_count": 3,
   "metadata": {},
   "outputs": [
    {
     "name": "stderr",
     "output_type": "stream",
     "text": [
      "Using Spark's default log4j profile: org/apache/spark/log4j-defaults.properties\n",
      "21/05/20 14:22:40 WARN Utils: Your hostname, DESKTOP-G76NQH1 resolves to a loopback address: 127.0.1.1; using 172.25.151.111 instead (on interface eth0)\n",
      "21/05/20 14:22:40 WARN Utils: Set SPARK_LOCAL_IP if you need to bind to another address\n",
      "21/05/20 14:22:42 WARN NativeCodeLoader: Unable to load native-hadoop library for your platform... using builtin-java classes where applicable\n"
     ]
    },
    {
     "name": "stdout",
     "output_type": "stream",
     "text": [
      "Data shape=(1.8286575E7, 169)\n"
     ]
    },
    {
     "data": {
      "text/plain": "\u001b[36mDATA_PATH\u001b[39m: \u001b[32mString\u001b[39m = \u001b[32m\"../data\"\u001b[39m\n\u001b[36mspark\u001b[39m: \u001b[32mSparkSession\u001b[39m = org.apache.spark.sql.SparkSession@3262e097\n\u001b[32mimport \u001b[39m\u001b[36mspark.implicits._\n\n\u001b[39m\n\u001b[36mdfLoaded\u001b[39m: \u001b[32morg\u001b[39m.\u001b[32mapache\u001b[39m.\u001b[32mspark\u001b[39m.\u001b[32msql\u001b[39m.\u001b[32mpackage\u001b[39m.\u001b[32mDataFrame\u001b[39m = [instanceId_userId: int, instanceId_objectType: string ... 167 more fields]\n\u001b[36mDF_COUNT\u001b[39m: \u001b[32mDouble\u001b[39m = \u001b[32m1.8286575E7\u001b[39m"
     },
     "execution_count": 3,
     "metadata": {},
     "output_type": "execute_result"
    }
   ],
   "source": [
    "val DATA_PATH = \"../data\"\n",
    "\n",
    "val spark=SparkSession.builder()\n",
    "    .appName(\"Data Sources Practice\")\n",
    "    .config(\"spark.master\", \"local\")\n",
    "    .getOrCreate()\n",
    "\n",
    "import spark.implicits._\n",
    "\n",
    "val dfLoaded=spark.read.parquet(DATA_PATH)\n",
    "val DF_COUNT=dfLoaded.count.toDouble\n",
    "println(s\"Data shape=(${DF_COUNT}, ${dfLoaded.columns.length})\")"
   ]
  },
  {
   "cell_type": "code",
   "execution_count": null,
   "metadata": {},
   "outputs": [],
   "source": [
    "dfLoaded.printSchema()"
   ]
  },
  {
   "cell_type": "code",
   "execution_count": 41,
   "metadata": {},
   "outputs": [
    {
     "name": "stdout",
     "output_type": "stream",
     "text": [
      "+----------------+----------+-------------------+-------------------+---------+-----------+-----------+-------------------+------+\n",
      "|metadata_ownerId|date      |createdTime        |auditedTime        |timeDelta|createdHour|auditedHour|feedback           |target|\n",
      "+----------------+----------+-------------------+-------------------+---------+-----------+-----------+-------------------+------+\n",
      "|1               |2018-02-27|2018-02-18 01:15:16|2018-02-27 03:51:08|9        |1          |3          |[Disliked, Ignored]|0     |\n",
      "|1               |2018-02-21|2018-02-18 01:15:16|2018-02-21 10:10:22|3        |1          |10         |[Clicked]          |0     |\n",
      "|1               |2018-02-25|2018-02-18 01:15:16|2018-02-25 16:55:18|7        |1          |16         |[Clicked, Liked]   |1     |\n",
      "|1               |2018-02-20|2018-02-18 01:15:16|2018-02-20 22:28:17|2        |1          |22         |[Ignored]          |0     |\n",
      "|1               |2018-02-20|2018-02-18 01:15:16|2018-02-21 00:49:55|2        |1          |0          |[Liked]            |1     |\n",
      "|1               |2018-02-27|2018-02-18 01:15:16|2018-02-27 23:42:35|9        |1          |23         |[Clicked]          |0     |\n",
      "|2               |2018-02-05|2018-02-04 14:58:09|2018-02-05 21:07:56|1        |14         |21         |[Ignored]          |0     |\n",
      "|2               |2018-02-06|2018-02-05 01:47:57|2018-02-07 01:29:10|1        |1          |1          |[Liked]            |1     |\n",
      "|2               |2018-02-03|2018-02-03 02:43:19|2018-02-03 12:04:19|0        |2          |12         |[Ignored]          |0     |\n",
      "|2               |2018-02-10|2018-02-08 17:07:48|2018-02-10 18:29:19|2        |17         |18         |[Clicked]          |0     |\n",
      "+----------------+----------+-------------------+-------------------+---------+-----------+-----------+-------------------+------+\n",
      "only showing top 10 rows\n",
      "\n"
     ]
    },
    {
     "data": {
      "text/plain": "\u001b[36mdfRaw\u001b[39m: \u001b[32morg\u001b[39m.\u001b[32mapache\u001b[39m.\u001b[32mspark\u001b[39m.\u001b[32msql\u001b[39m.\u001b[32mpackage\u001b[39m.\u001b[32mDataFrame\u001b[39m = [instanceId_userId: int, instanceId_objectType: string ... 173 more fields]"
     },
     "execution_count": 41,
     "metadata": {},
     "output_type": "execute_result"
    }
   ],
   "source": [
    "val dfRaw=dfLoaded\n",
    "    .withColumn(\"target\", when(array_contains('feedback, \"Liked\"), lit(1)).otherwise(lit(0)))\n",
    "    .withColumn(\"createdTime\", from_unixtime('metadata_createdAt / 1000))\n",
    "    .withColumn(\"auditedTime\", from_unixtime('audit_timestamp / 1000))\n",
    "    .withColumn(\"timeDelta\", (('audit_timestamp - 'metadata_createdAt) / 3600000 /24).cast(\"integer\"))\n",
    "    .withColumn(\"createdHour\", hour('createdTime))\n",
    "    .withColumn(\"auditedHour\", hour('auditedTime))\n",
    "    //.na.fill(0)\n",
    "\n",
    "dfRaw\n",
    "    .select(\"metadata_ownerId\", \"date\", \"createdTime\", \"auditedTime\", \"timeDelta\", \"createdHour\", \"auditedHour\", \"feedback\", \"target\")\n",
    "    .orderBy(\"metadata_ownerId\")\n",
    "    .show(10, truncate=false)\n",
    "    "
   ]
  },
  {
   "cell_type": "markdown",
   "metadata": {},
   "source": [
    "# Топ групп"
   ]
  },
  {
   "cell_type": "code",
   "execution_count": 5,
   "metadata": {},
   "outputs": [
    {
     "name": "stdout",
     "output_type": "stream",
     "text": [
      "+----------------+-----+\n",
      "|metadata_ownerId|count|\n",
      "+----------------+-----+\n",
      "|           37463|71558|\n",
      "|           76851|53090|\n",
      "|           11222|49656|\n",
      "|           65305|46334|\n",
      "|            8225|44342|\n",
      "|           38703|44308|\n",
      "|           18942|42829|\n",
      "|           62833|40545|\n",
      "|           79619|40540|\n",
      "|           19481|40370|\n",
      "+----------------+-----+\n",
      "only showing top 10 rows\n",
      "\n"
     ]
    }
   ],
   "source": [
    "dfRaw.groupBy('metadata_ownerId).count.orderBy('count.desc).show(10)"
   ]
  },
  {
   "cell_type": "markdown",
   "metadata": {},
   "source": [
    "# Гистограммы популярности/активности \n",
    "Гистограммы популярности/активности групп на портале по времени суток "
   ]
  },
  {
   "cell_type": "code",
   "execution_count": null,
   "metadata": {},
   "outputs": [],
   "source": [
    "val (x, y) = dfRaw\n",
    "    .groupBy('createdHour).count\n",
    "    .orderBy('createdHour).collect\n",
    "    .map(r=>(r(0).toString, r(1).toString.toInt))\n",
    "    .toList.unzip"
   ]
  },
  {
   "cell_type": "code",
   "execution_count": 86,
   "metadata": {},
   "outputs": [
    {
     "data": {
      "application/vnd.plotly.v1+json": {
       "data": [
        {
         "type": "bar",
         "x": [
          "0",
          "1",
          "2",
          "3",
          "4",
          "5",
          "6",
          "7",
          "8",
          "9",
          "10",
          "11",
          "12",
          "13",
          "14",
          "15",
          "16",
          "17",
          "18",
          "19",
          "20",
          "21",
          "22",
          "23"
         ],
         "y": [
          929148,
          765273,
          617014,
          410170,
          281546,
          290178,
          295163,
          295231,
          402561,
          576266,
          681296,
          794822,
          844789,
          997825,
          946104,
          971683,
          935040,
          980100,
          985230,
          1039959,
          1067591,
          1141766,
          991184,
          1046636
         ]
        }
       ],
       "layout": {
        "title": "Популярность/Активность от createdHour"
       }
      },
      "text/html": "<div class=\"chart\" id=\"plot-1816684770\"></div>\n<script>require(['plotly'], function(Plotly) {\n  (function () {\n  var data0 = {\"x\":[\"0\",\"1\",\"2\",\"3\",\"4\",\"5\",\"6\",\"7\",\"8\",\"9\",\"10\",\"11\",\"12\",\"13\",\"14\",\"15\",\"16\",\"17\",\"18\",\"19\",\"20\",\"21\",\"22\",\"23\"],\"y\":[929148.0,765273.0,617014.0,410170.0,281546.0,290178.0,295163.0,295231.0,402561.0,576266.0,681296.0,794822.0,844789.0,997825.0,946104.0,971683.0,935040.0,980100.0,985230.0,1039959.0,1067591.0,1141766.0,991184.0,1046636.0],\"type\":\"bar\"};\n\n  var data = [data0];\n  var layout = {\"title\":\"Популярность/Активность от createdHour\"};\n\n  Plotly.plot('plot-1816684770', data, layout);\n})();\n});\n      </script>\n           "
     },
     "metadata": {},
     "output_type": "display_data"
    },
    {
     "data": {
      "text/plain": "\u001b[36mres85\u001b[39m: \u001b[32mString\u001b[39m = \u001b[32m\"plot-1816684770\"\u001b[39m"
     },
     "execution_count": 86,
     "metadata": {},
     "output_type": "execute_result"
    }
   ],
   "source": [
    "Bar(x, y).plot(title = \"Популярность/Активность от createdHour\")"
   ]
  },
  {
   "cell_type": "code",
   "execution_count": null,
   "metadata": {},
   "outputs": [],
   "source": [
    "val (x, y) = dfRaw\n",
    "    .groupBy('auditedHour).count\n",
    "    .orderBy('auditedHour).collect\n",
    "    .map(r=>(r(0).toString, r(1).toString.toInt))\n",
    "    .toList.unzip"
   ]
  },
  {
   "cell_type": "code",
   "execution_count": 88,
   "metadata": {},
   "outputs": [
    {
     "data": {
      "application/vnd.plotly.v1+json": {
       "data": [
        {
         "type": "bar",
         "x": [
          "0",
          "1",
          "2",
          "3",
          "4",
          "5",
          "6",
          "7",
          "8",
          "9",
          "10",
          "11",
          "12",
          "13",
          "14",
          "15",
          "16",
          "17",
          "18",
          "19",
          "20",
          "21",
          "22",
          "23"
         ],
         "y": [
          1180341,
          917899,
          623270,
          347801,
          214532,
          171799,
          190669,
          255999,
          353397,
          508045,
          662820,
          787754,
          831354,
          837955,
          843048,
          858546,
          889471,
          922062,
          972513,
          1029619,
          1122013,
          1213270,
          1276641,
          1275757
         ]
        }
       ],
       "layout": {
        "title": "Популярность/Активность от auditedHour"
       }
      },
      "text/html": "<div class=\"chart\" id=\"plot-1342072777\"></div>\n<script>require(['plotly'], function(Plotly) {\n  (function () {\n  var data0 = {\"x\":[\"0\",\"1\",\"2\",\"3\",\"4\",\"5\",\"6\",\"7\",\"8\",\"9\",\"10\",\"11\",\"12\",\"13\",\"14\",\"15\",\"16\",\"17\",\"18\",\"19\",\"20\",\"21\",\"22\",\"23\"],\"y\":[1180341.0,917899.0,623270.0,347801.0,214532.0,171799.0,190669.0,255999.0,353397.0,508045.0,662820.0,787754.0,831354.0,837955.0,843048.0,858546.0,889471.0,922062.0,972513.0,1029619.0,1122013.0,1213270.0,1276641.0,1275757.0],\"type\":\"bar\"};\n\n  var data = [data0];\n  var layout = {\"title\":\"Популярность/Активность от auditedHour\"};\n\n  Plotly.plot('plot-1342072777', data, layout);\n})();\n});\n      </script>\n           "
     },
     "metadata": {},
     "output_type": "display_data"
    },
    {
     "data": {
      "text/plain": "\u001b[36mres87\u001b[39m: \u001b[32mString\u001b[39m = \u001b[32m\"plot-1342072777\"\u001b[39m"
     },
     "execution_count": 88,
     "metadata": {},
     "output_type": "execute_result"
    }
   ],
   "source": [
    "Bar(x, y).plot(title = \"Популярность/Активность от auditedHour\")"
   ]
  },
  {
   "cell_type": "markdown",
   "metadata": {},
   "source": [
    "# Корреляция числовых признаков с целевой переменной\n",
    "Выбрана корреляция из Spark SQL, так как время исполнения было ниже"
   ]
  },
  {
   "cell_type": "code",
   "execution_count": null,
   "metadata": {},
   "outputs": [],
   "source": [
    "def correlateColumn(column:String): Option[Double] = \n",
    "    dfRaw.agg(corr(col(column), 'target)).head()(0) match {\n",
    "        case n: java.lang.Number => Some(n.doubleValue())\n",
    "        case _ => None\n",
    "    }\n",
    "\n",
    "val colsToExclude=Array(\"target\",\"instanceId_userId\",\"instanceId_objectId\",\"instanceId_objectType\",\"audit_clientType\",\"audit_timestamp\",\"audit_timePassed\",\n",
    "    \"audit_experiment\",\"audit_resourceType\", \"metadata_ownerType\",\"metadata_ownerId\",\"metadata_createdAt\",\"metadata_authorId\",\"metadata_applicationId\",\n",
    "    \"metadata_platform\",\"metadata_options\",\"relationsMask\",\"membership_status\",\"membership_statusUpdateDate\",\"membership_joinDate\",\"membership_joinRequestDate\",\n",
    "    \"owner_create_date\",\"owner_birth_date\", \"feedback\",\"objectId\",\"date\")\n",
    "    \n",
    "val cols=dfRaw.columns diff colsToExclude\n",
    "\n",
    "val correlated:Array[(String, Option[Double])]=cols.map(x=>(x,correlateColumn(x))).sortWith(_._2 > _._2)"
   ]
  },
  {
   "cell_type": "code",
   "execution_count": 9,
   "metadata": {},
   "outputs": [
    {
     "name": "stdout",
     "output_type": "stream",
     "text": [
      "auditweights_svd_prelaunch: 0.2855\n",
      "auditweights_userOwner_USER_FEED_REMOVE: -0.1147\n"
     ]
    },
    {
     "data": {
      "text/plain": "\u001b[36mres8\u001b[39m: \u001b[32mSeq\u001b[39m[\u001b[32mUnit\u001b[39m] = \u001b[33mList\u001b[39m((), ())"
     },
     "execution_count": 9,
     "metadata": {},
     "output_type": "execute_result"
    }
   ],
   "source": [
    "Seq(correlated.head, correlated.filter(_._2.isDefined).last).map(x=>println(x._1+f\": ${x._2.get}%1.4f\"))"
   ]
  },
  {
   "cell_type": "markdown",
   "metadata": {},
   "source": [
    "Нет явной корреляции признаков с целевой переменной\n",
    "\n",
    "# Проверка категориальных признаков"
   ]
  },
  {
   "cell_type": "markdown",
   "metadata": {},
   "source": [
    "## instanceId_objectType "
   ]
  },
  {
   "cell_type": "code",
   "execution_count": 37,
   "metadata": {},
   "outputs": [
    {
     "name": "stdout",
     "output_type": "stream",
     "text": [
      "+---------------------+-------------------+--------+\n",
      "|instanceId_objectType|               mean|   count|\n",
      "+---------------------+-------------------+--------+\n",
      "|                 Post|0.18475945252001133|16119749|\n",
      "|                Photo|0.11326861322439467| 1345589|\n",
      "|                Video| 0.1092741802914384|  821237|\n",
      "+---------------------+-------------------+--------+\n",
      "\n"
     ]
    }
   ],
   "source": [
    "dfRaw\n",
    "    .groupBy('instanceId_objectType)\n",
    "    .agg(mean('target).as('mean),count('target).as('count))\n",
    "    .orderBy('mean.desc)\n",
    "    .show()"
   ]
  },
  {
   "cell_type": "markdown",
   "metadata": {},
   "source": [
    "Как видно из таблицы, посты лайкают существенно чаще, нежели фото и видео. Это странно, априори я думал, что на первом месте будут фото.\n",
    "\n",
    "## audit_resourceType"
   ]
  },
  {
   "cell_type": "code",
   "execution_count": 38,
   "metadata": {},
   "outputs": [
    {
     "name": "stdout",
     "output_type": "stream",
     "text": [
      "+------------------+-------------------+--------+\n",
      "|audit_resourceType|               mean|   count|\n",
      "+------------------+-------------------+--------+\n",
      "|                 8|0.19136913113271348|14618366|\n",
      "|                14|0.16358282519562675|  599739|\n",
      "|                 3|0.11326861322439467| 1345589|\n",
      "|                 6| 0.1092741802914384|  821237|\n",
      "|                 7|0.09168252658477181|  901644|\n",
      "+------------------+-------------------+--------+\n",
      "\n"
     ]
    }
   ],
   "source": [
    "dfRaw\n",
    "    .groupBy('audit_resourceType)\n",
    "    .agg(mean('target).as('mean),count('target).as('count))\n",
    "    .orderBy('mean.desc)\n",
    "    .show()"
   ]
  },
  {
   "cell_type": "markdown",
   "metadata": {},
   "source": [
    "`№8` и `№14` определенно более популярны\n",
    "## metadata_ownerType"
   ]
  },
  {
   "cell_type": "code",
   "execution_count": 39,
   "metadata": {},
   "outputs": [
    {
     "name": "stdout",
     "output_type": "stream",
     "text": [
      "+-------------------+-------------------+--------+\n",
      "| metadata_ownerType|               mean|   count|\n",
      "+-------------------+-------------------+--------+\n",
      "|GROUP_OPEN_OFFICIAL|0.18409800425332773|15192810|\n",
      "|         GROUP_OPEN|0.13687626565042918| 3093765|\n",
      "+-------------------+-------------------+--------+\n",
      "\n"
     ]
    }
   ],
   "source": [
    "dfRaw.groupBy('metadata_ownerType).agg(mean('target).as('mean),count('target).as('count)).orderBy('mean.desc).show()"
   ]
  },
  {
   "cell_type": "markdown",
   "metadata": {},
   "source": [
    "Активность в официально открытых группах чаще получает лайки, нежели в обычных.\n",
    "\n",
    "## membership_status"
   ]
  },
  {
   "cell_type": "code",
   "execution_count": 40,
   "metadata": {},
   "outputs": [
    {
     "name": "stdout",
     "output_type": "stream",
     "text": [
      "+-----------------+-------------------+--------+\n",
      "|membership_status|               mean|   count|\n",
      "+-----------------+-------------------+--------+\n",
      "|                M|0.34384178578421776|    5107|\n",
      "|                !|0.24410933081998115|    2122|\n",
      "|                I|0.21739130434782608|    5911|\n",
      "|             null| 0.1996272719846519| 6451353|\n",
      "|                P| 0.1906833127978267|   67363|\n",
      "|                A|0.16303083088882844|11750164|\n",
      "|                Y|0.11487130600571974|    4196|\n",
      "|                B|0.10674157303370786|     356|\n",
      "|                R|                0.0|       3|\n",
      "+-----------------+-------------------+--------+\n",
      "\n"
     ]
    }
   ],
   "source": [
    "dfRaw\n",
    "    .groupBy('membership_status)\n",
    "    .agg(mean('target).as('mean),count('target).as('count))\n",
    "    .orderBy('mean.desc)\n",
    "    .show()"
   ]
  },
  {
   "cell_type": "markdown",
   "metadata": {},
   "source": [
    "`membership_status` имеет значение! Лучший статус - `M`, статусы же `B` и `Y` лучше не иметь.\n",
    "\n",
    "## timeDelta\n",
    "Сначала проверим данные на правильность. Так как `timeDelta` считается как разница между временем создания ленты (`createdTime`) и временем показа (`auditedTime`), второе должно быть больше первого, но в разумных пределах."
   ]
  },
  {
   "cell_type": "code",
   "execution_count": null,
   "metadata": {},
   "outputs": [],
   "source": [
    "dfRaw\n",
    "    .select(\"metadata_ownerId\", \"date\", \"createdTime\", \"auditedTime\", \"timeDelta\", \"createdHour\", \"auditedHour\", \"feedback\", \"target\")\n",
    "    .orderBy(\"metadata_ownerId\")\n",
    "    .filter('timeDelta < 0)\n",
    "    .count"
   ]
  },
  {
   "cell_type": "code",
   "execution_count": 67,
   "metadata": {},
   "outputs": [
    {
     "name": "stdout",
     "output_type": "stream",
     "text": [
      "+----------------+----------+-------------------+-------------------+---------+-----------+-----------+-------------------+------+\n",
      "|metadata_ownerId|      date|        createdTime|        auditedTime|timeDelta|createdHour|auditedHour|           feedback|target|\n",
      "+----------------+----------+-------------------+-------------------+---------+-----------+-----------+-------------------+------+\n",
      "|               4|2018-03-07|1922-02-04 04:38:31|2018-03-07 19:25:15|    35095|          4|         19|  [Clicked, Viewed]|     0|\n",
      "|              27|2018-02-24|1922-02-04 04:38:31|2018-02-24 11:32:58|    35084|          4|         11|          [Ignored]|     0|\n",
      "|             165|2018-02-16|1922-02-04 04:38:31|2018-02-16 19:30:04|    35076|          4|         19|          [Clicked]|     0|\n",
      "|             370|2018-03-01|1922-02-04 04:38:31|2018-03-01 22:38:18|    35089|          4|         22|          [Clicked]|     0|\n",
      "|             370|2018-03-11|1922-02-04 04:38:31|2018-03-11 16:32:07|    35099|          4|         16|          [Clicked]|     0|\n",
      "|            1160|2018-02-28|1922-02-04 04:38:31|2018-02-28 22:58:24|    35088|          4|         22| [Clicked, Ignored]|     0|\n",
      "|            1161|2018-02-01|1922-02-04 04:38:31|2018-02-02 01:02:47|    35061|          4|          1|[Disliked, Ignored]|     0|\n",
      "|            1184|2018-03-20|1922-02-04 04:38:31|2018-03-20 19:34:21|    35108|          4|         19|          [Clicked]|     0|\n",
      "|            1184|2018-03-08|1922-02-04 04:38:31|2018-03-08 22:13:48|    35096|          4|         22|          [Clicked]|     0|\n",
      "|            1184|2018-02-05|1922-02-04 04:38:31|2018-02-05 21:15:33|    35065|          4|         21|         [Disliked]|     0|\n",
      "+----------------+----------+-------------------+-------------------+---------+-----------+-----------+-------------------+------+\n",
      "only showing top 10 rows\n",
      "\n"
     ]
    }
   ],
   "source": [
    "dfRaw\n",
    "    .select(\"metadata_ownerId\", \"date\", \"createdTime\", \"auditedTime\", \"timeDelta\", \"createdHour\", \"auditedHour\", \"feedback\", \"target\")\n",
    "    .orderBy(\"metadata_ownerId\")\n",
    "    .filter('timeDelta > 3650).show(10)"
   ]
  },
  {
   "cell_type": "markdown",
   "metadata": {},
   "source": [
    "Удаляем все строки с отрицательными значениями `timeDelta`, равно как и строки с `createdTime` от 1922 года. Разбиение производим по логарифму `timeDelta`, дабы уменьшить количество групп. "
   ]
  },
  {
   "cell_type": "code",
   "execution_count": 69,
   "metadata": {},
   "outputs": [
    {
     "name": "stdout",
     "output_type": "stream",
     "text": [
      "+-------------+-------------------+--------+\n",
      "|log_timeDelta|               mean|   count|\n",
      "+-------------+-------------------+--------+\n",
      "|          2.0|0.22569663229240366|  645929|\n",
      "|          3.0|0.21981250336463404|  130029|\n",
      "|          1.0|0.20794307653892039| 2342795|\n",
      "|          4.0|0.20563211970852222|   76987|\n",
      "|          0.0|0.19311657570873927| 2620992|\n",
      "|          5.0| 0.1856417103592015|   61414|\n",
      "|          6.0| 0.1696442546340809|   44723|\n",
      "|         null|0.16325962444647824|12338268|\n",
      "|          7.0|0.13491280026324448|   21273|\n",
      "|          8.0|                0.0|      17|\n",
      "+-------------+-------------------+--------+\n",
      "\n"
     ]
    }
   ],
   "source": [
    "dfRaw\n",
    "    .filter('timeDelta>=0 && 'timeDelta<3650)\n",
    "    .withColumn(\"log_timeDelta\", round(log('timeDelta)))\n",
    "    .groupBy('log_timeDelta)\n",
    "    .agg(mean('target).as('mean),count('target).as('count))\n",
    "    .orderBy('mean.desc)\n",
    "    .show()"
   ]
  },
  {
   "cell_type": "markdown",
   "metadata": {},
   "source": [
    "К сожалению, анализ времени, прошедшего между `createdTime` и `auditedTime` не показал ничего интересного.\n",
    "## IDs\n",
    "Если ids генерируются с автоинкрементом, то они являются прямым отражением времени регистрации пользователей. Чем меньше id, тем раньше пользователь зарегистрировался в системе. \n",
    "Применим логарифм по основанию 10 к полям `metadata_ownerId` и `metadata_authorId`:"
   ]
  },
  {
   "cell_type": "code",
   "execution_count": 70,
   "metadata": {},
   "outputs": [
    {
     "name": "stdout",
     "output_type": "stream",
     "text": [
      "+------+----------------+-----------------+-----------+------------+\n",
      "|target|metadata_ownerId|metadata_authorId|log_ownerId|log_authorId|\n",
      "+------+----------------+-----------------+-----------+------------+\n",
      "|     1|           13680|            73356|        4.0|         5.0|\n",
      "|     1|           42167|           828613|        5.0|         6.0|\n",
      "|     1|           12988|          1076820|        4.0|         6.0|\n",
      "|     0|            2772|           608137|        3.0|         6.0|\n",
      "|     0|           20289|           565604|        4.0|         6.0|\n",
      "+------+----------------+-----------------+-----------+------------+\n",
      "only showing top 5 rows\n",
      "\n"
     ]
    },
    {
     "data": {
      "text/plain": "\u001b[36mdfIds\u001b[39m: \u001b[32morg\u001b[39m.\u001b[32mapache\u001b[39m.\u001b[32mspark\u001b[39m.\u001b[32msql\u001b[39m.\u001b[32mpackage\u001b[39m.\u001b[32mDataFrame\u001b[39m = [target: int, metadata_ownerId: int ... 3 more fields]"
     },
     "execution_count": 70,
     "metadata": {},
     "output_type": "execute_result"
    }
   ],
   "source": [
    "val dfIds=dfRaw\n",
    "    .select(\"target\",\"metadata_ownerId\",\"metadata_authorId\")\n",
    "    .withColumn(\"log_ownerId\", round(log10('metadata_ownerId)))\n",
    "    .withColumn(\"log_authorId\", round(log10('metadata_authorId)))\n",
    "dfIds.show(5)"
   ]
  },
  {
   "cell_type": "code",
   "execution_count": 59,
   "metadata": {},
   "outputs": [
    {
     "name": "stdout",
     "output_type": "stream",
     "text": [
      "+-----------+-------------------+-------+\n",
      "|log_ownerId|               mean|  count|\n",
      "+-----------+-------------------+-------+\n",
      "|        5.0|0.17830895852624556|9749684|\n",
      "|        4.0|0.17528856911673626|8008480|\n",
      "|        3.0|0.14866905546330528| 492019|\n",
      "|        2.0|0.14345719995935097|  29521|\n",
      "|        1.0|0.11572787125091441|   6835|\n",
      "|        0.0| 0.1111111111111111|     36|\n",
      "+-----------+-------------------+-------+\n",
      "\n"
     ]
    }
   ],
   "source": [
    "dfIds\n",
    "    .groupBy('log_ownerId)\n",
    "    .agg(mean('target).as('mean),count('target).as('count))\n",
    "    .orderBy('mean.desc)\n",
    "    .show()"
   ]
  },
  {
   "cell_type": "code",
   "execution_count": 60,
   "metadata": {},
   "outputs": [
    {
     "name": "stdout",
     "output_type": "stream",
     "text": [
      "+------------+-------------------+--------+\n",
      "|log_authorId|               mean|   count|\n",
      "+------------+-------------------+--------+\n",
      "|         6.0|0.17782806520900454|15345120|\n",
      "|         5.0|0.16870395358004242| 2458253|\n",
      "|         4.0|  0.163244299287682|  438147|\n",
      "|         3.0|0.12431117815472709|   32483|\n",
      "|         0.0| 0.1091876108040463|    9589|\n",
      "|         1.0|0.10714285714285714|     112|\n",
      "|         2.0|0.10344827586206896|    2871|\n",
      "+------------+-------------------+--------+\n",
      "\n"
     ]
    }
   ],
   "source": [
    "dfIds\n",
    "    .groupBy('log_authorId)\n",
    "    .agg(mean('target).as('mean),count('target).as('count))\n",
    "    .orderBy('mean.desc)\n",
    "    .show()"
   ]
  },
  {
   "cell_type": "markdown",
   "metadata": {},
   "source": [
    "Интересно, чем больше `metadata_ownerId` и `metadata_authorId`, тем выше вероятность получить лайк. Посчитаем корреляцию Пирсона, так как всё же ids это непрерывные значения:"
   ]
  },
  {
   "cell_type": "code",
   "execution_count": 72,
   "metadata": {},
   "outputs": [
    {
     "data": {
      "text/plain": "\u001b[36mcorrelatedIds\u001b[39m: \u001b[32mArray\u001b[39m[(\u001b[32mString\u001b[39m, \u001b[32mOption\u001b[39m[\u001b[32mDouble\u001b[39m])] = \u001b[33mArray\u001b[39m(\n  (\u001b[32m\"metadata_ownerId\"\u001b[39m, \u001b[33mSome\u001b[39m(\u001b[32m0.011679487961495112\u001b[39m)),\n  (\u001b[32m\"metadata_authorId\"\u001b[39m, \u001b[33mSome\u001b[39m(\u001b[32m0.007233333042612956\u001b[39m))\n)"
     },
     "execution_count": 72,
     "metadata": {},
     "output_type": "execute_result"
    }
   ],
   "source": [
    "val correlatedIds:Array[(String, Option[Double])]=Array(\"metadata_ownerId\",\"metadata_authorId\").map(x=>(x,correlateColumn(x))).sortWith(_._2 > _._2)"
   ]
  },
  {
   "cell_type": "markdown",
   "metadata": {},
   "source": [
    "По Пирсону корреляции нет. "
   ]
  }
 ],
 "metadata": {
  "kernelspec": {
   "display_name": "Scala (2.12)",
   "language": "scala",
   "name": "scala212"
  },
  "language_info": {
   "codemirror_mode": "text/x-scala",
   "file_extension": ".sc",
   "mimetype": "text/x-scala",
   "name": "scala",
   "nbconvert_exporter": "script",
   "version": "2.12.9"
  },
  "orig_nbformat": 3
 },
 "nbformat": 4,
 "nbformat_minor": 2
}